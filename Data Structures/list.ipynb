{
 "cells": [
  {
   "cell_type": "code",
   "execution_count": 1,
   "id": "791cd3e7",
   "metadata": {},
   "outputs": [
    {
     "name": "stdout",
     "output_type": "stream",
     "text": [
      "['swiggy', 'zomato', 'watsap', 'facebook', 'ola', 'uber', 'amazon', 'flipakrt', 'maps']\n"
     ]
    }
   ],
   "source": [
    "apps = ['swiggy','zomato','watsap','facebook','ola','uber','amazon','flipakrt','maps']\n",
    "print(apps)"
   ]
  },
  {
   "cell_type": "code",
   "execution_count": 2,
   "id": "56c650f5",
   "metadata": {},
   "outputs": [
    {
     "name": "stdout",
     "output_type": "stream",
     "text": [
      "swiggy zomato watsap facebook ola uber amazon flipakrt maps "
     ]
    }
   ],
   "source": [
    "for i in apps:\n",
    "    print(i, end=' ')"
   ]
  },
  {
   "cell_type": "markdown",
   "id": "65e3dc8b",
   "metadata": {},
   "source": [
    "Indexing"
   ]
  },
  {
   "cell_type": "code",
   "execution_count": null,
   "id": "f3becafc",
   "metadata": {},
   "outputs": [
    {
     "name": "stdout",
     "output_type": "stream",
     "text": [
      "zomato\n",
      "uber\n"
     ]
    }
   ],
   "source": [
    "print(apps[1])\n",
    "print(apps[5])"
   ]
  },
  {
   "cell_type": "code",
   "execution_count": 6,
   "id": "80779d06",
   "metadata": {},
   "outputs": [
    {
     "name": "stdout",
     "output_type": "stream",
     "text": [
      "amazon\n",
      "facebook\n"
     ]
    }
   ],
   "source": [
    "print(apps[-3])\n",
    "print(apps[-6])"
   ]
  },
  {
   "cell_type": "code",
   "execution_count": 7,
   "id": "b12c1ba3",
   "metadata": {},
   "outputs": [
    {
     "name": "stdout",
     "output_type": "stream",
     "text": [
      "3\n"
     ]
    }
   ],
   "source": [
    "#to find the index of an element\n",
    "print(apps.index('facebook'))"
   ]
  },
  {
   "cell_type": "markdown",
   "id": "3ee4aa84",
   "metadata": {},
   "source": [
    "slicing"
   ]
  },
  {
   "cell_type": "code",
   "execution_count": 8,
   "id": "173e979c",
   "metadata": {},
   "outputs": [
    {
     "name": "stdout",
     "output_type": "stream",
     "text": [
      "['watsap', 'facebook', 'ola', 'uber']\n"
     ]
    }
   ],
   "source": [
    "print(apps[2:6])"
   ]
  },
  {
   "cell_type": "code",
   "execution_count": 10,
   "id": "7e7da803",
   "metadata": {},
   "outputs": [
    {
     "name": "stdout",
     "output_type": "stream",
     "text": [
      "['swiggy', 'zomato', 'watsap', 'facebook', 'ola', 'uber', 'amazon', 'flipakrt', 'maps']\n"
     ]
    }
   ],
   "source": [
    "print(apps)"
   ]
  },
  {
   "cell_type": "code",
   "execution_count": 17,
   "id": "6c003739",
   "metadata": {},
   "outputs": [
    {
     "name": "stdout",
     "output_type": "stream",
     "text": [
      "['facebook', 'ola', 'uber', 'amazon', 'flipakrt', 'maps']\n"
     ]
    }
   ],
   "source": [
    "print(apps[-6:])"
   ]
  },
  {
   "cell_type": "code",
   "execution_count": 19,
   "id": "a360f68e",
   "metadata": {},
   "outputs": [
    {
     "name": "stdout",
     "output_type": "stream",
     "text": [
      "['swiggy', 'zomato', 'watsap', 'facebook', 'ola', 'uber', 'amazon', 'flipakrt', 'maps']\n",
      "['swiggy', 'zomato', 'watsap', 'facebook', 'ola', 'uber', 'amazon']\n",
      "['watsap', 'facebook', 'ola', 'uber', 'amazon', 'flipakrt', 'maps']\n",
      "['zomato', 'facebook', 'uber', 'flipakrt']\n"
     ]
    }
   ],
   "source": [
    "print(apps[:])\n",
    "print(apps[:7])\n",
    "print(apps[2:])\n",
    "print(apps[1::2])"
   ]
  },
  {
   "cell_type": "markdown",
   "id": "96e8ac38",
   "metadata": {},
   "source": [
    "LIST METHODS\n",
    "- append() - to add item at the end of the list\n",
    "- insert() - to add item at any specific position in the list\n",
    "- pop() - to delete item using its index position\n",
    "- remove() - to delete items using item name\n",
    "- copy() - to make a duplicate of the list\n",
    "- sort() - to sort the list in a particular order\n",
    "- extend() - to combine two list into a single list\n",
    "- clear() - to delete all the items from the list but not the list"
   ]
  },
  {
   "cell_type": "code",
   "execution_count": 20,
   "id": "93b5ff89",
   "metadata": {},
   "outputs": [
    {
     "name": "stdout",
     "output_type": "stream",
     "text": [
      "['swiggy', 'zomato', 'watsap', 'facebook', 'ola', 'uber', 'amazon', 'flipakrt', 'maps', 'snapchat']\n"
     ]
    }
   ],
   "source": [
    "apps.append('snapchat')\n",
    "print(apps)"
   ]
  },
  {
   "cell_type": "code",
   "execution_count": 21,
   "id": "a84a4e7b",
   "metadata": {},
   "outputs": [],
   "source": [
    "apps.insert(2, 'netflix')"
   ]
  },
  {
   "cell_type": "code",
   "execution_count": 22,
   "id": "388c607e",
   "metadata": {},
   "outputs": [
    {
     "name": "stdout",
     "output_type": "stream",
     "text": [
      "['swiggy', 'zomato', 'netflix', 'watsap', 'facebook', 'ola', 'uber', 'amazon', 'flipakrt', 'maps', 'snapchat']\n"
     ]
    }
   ],
   "source": [
    "print(apps)"
   ]
  },
  {
   "cell_type": "code",
   "execution_count": 23,
   "id": "d87b8534",
   "metadata": {},
   "outputs": [
    {
     "name": "stdout",
     "output_type": "stream",
     "text": [
      "['swiggy', 'zomato', 'netflix', 'watsap', 'facebook', 'uber', 'amazon', 'flipakrt', 'maps', 'snapchat']\n"
     ]
    }
   ],
   "source": [
    "apps.pop(5)\n",
    "print(apps)"
   ]
  },
  {
   "cell_type": "code",
   "execution_count": 24,
   "id": "fad3d757",
   "metadata": {},
   "outputs": [
    {
     "name": "stdout",
     "output_type": "stream",
     "text": [
      "['swiggy', 'netflix', 'watsap', 'facebook', 'uber', 'amazon', 'flipakrt', 'maps', 'snapchat']\n"
     ]
    }
   ],
   "source": [
    "apps.remove('zomato')\n",
    "print(apps)"
   ]
  },
  {
   "cell_type": "code",
   "execution_count": 25,
   "id": "1ba546c6",
   "metadata": {},
   "outputs": [
    {
     "name": "stdout",
     "output_type": "stream",
     "text": [
      "['swiggy', 'netflix', 'watsap', 'facebook', 'uber', 'amazon', 'flipakrt', 'maps', 'snapchat']\n"
     ]
    }
   ],
   "source": [
    "apps_copy = apps.copy()\n",
    "print(apps_copy)"
   ]
  },
  {
   "cell_type": "code",
   "execution_count": 26,
   "id": "85536737",
   "metadata": {},
   "outputs": [
    {
     "name": "stdout",
     "output_type": "stream",
     "text": [
      "[]\n"
     ]
    }
   ],
   "source": [
    "apps_copy.clear()\n",
    "print(apps_copy)"
   ]
  },
  {
   "cell_type": "code",
   "execution_count": 27,
   "id": "72f9eb0b",
   "metadata": {},
   "outputs": [],
   "source": [
    "apps.sort()"
   ]
  },
  {
   "cell_type": "code",
   "execution_count": 29,
   "id": "dd1cecca",
   "metadata": {},
   "outputs": [
    {
     "name": "stdout",
     "output_type": "stream",
     "text": [
      "['amazon', 'facebook', 'flipakrt', 'maps', 'netflix', 'snapchat', 'swiggy', 'uber', 'watsap']\n"
     ]
    }
   ],
   "source": [
    "print(apps)"
   ]
  },
  {
   "cell_type": "code",
   "execution_count": 30,
   "id": "4ccee1e0",
   "metadata": {},
   "outputs": [],
   "source": [
    "apps2 = ['hotstar', 'disney', 'prime', 'hbo']\n"
   ]
  },
  {
   "cell_type": "code",
   "execution_count": 31,
   "id": "a01e7619",
   "metadata": {},
   "outputs": [
    {
     "name": "stdout",
     "output_type": "stream",
     "text": [
      "['amazon', 'facebook', 'flipakrt', 'maps', 'netflix', 'snapchat', 'swiggy', 'uber', 'watsap', 'hotstar', 'disney', 'prime', 'hbo']\n"
     ]
    }
   ],
   "source": [
    "apps.extend(apps2)\n",
    "print(apps)"
   ]
  },
  {
   "cell_type": "code",
   "execution_count": 32,
   "id": "d795fa2f",
   "metadata": {},
   "outputs": [
    {
     "name": "stdout",
     "output_type": "stream",
     "text": [
      "['hotstar', 'disney', 'prime', 'hbo', 'amazon', 'facebook', 'flipakrt', 'maps', 'netflix', 'snapchat', 'swiggy', 'uber', 'watsap', 'hotstar', 'disney', 'prime', 'hbo']\n"
     ]
    }
   ],
   "source": [
    "apps2.extend(apps)\n",
    "print(apps2)"
   ]
  },
  {
   "cell_type": "code",
   "execution_count": 1,
   "id": "279e8302",
   "metadata": {},
   "outputs": [
    {
     "name": "stdout",
     "output_type": "stream",
     "text": [
      "5\n"
     ]
    }
   ],
   "source": [
    "lst = [1, 2, 3, 4]\n",
    "lst.append([5, 6])\n",
    "print(len(lst))"
   ]
  },
  {
   "cell_type": "code",
   "execution_count": 2,
   "id": "6a4e3016",
   "metadata": {},
   "outputs": [
    {
     "name": "stdout",
     "output_type": "stream",
     "text": [
      "[1, 2, 3, 4, 5, 6]\n"
     ]
    }
   ],
   "source": [
    "a = [1, 2, 3] \n",
    "b = [4, 5, 6]\n",
    "print(a + b)"
   ]
  },
  {
   "cell_type": "code",
   "execution_count": 3,
   "id": "aa969a52",
   "metadata": {},
   "outputs": [
    {
     "data": {
      "text/plain": [
       "False"
      ]
     },
     "execution_count": 3,
     "metadata": {},
     "output_type": "execute_result"
    }
   ],
   "source": [
    "0.1 + 0.2 == 0.3"
   ]
  },
  {
   "cell_type": "code",
   "execution_count": 4,
   "id": "a8211978",
   "metadata": {},
   "outputs": [
    {
     "name": "stdout",
     "output_type": "stream",
     "text": [
      "0.30000000000000004\n"
     ]
    }
   ],
   "source": [
    "a = 0.1\n",
    "b = 0.2\n",
    "print(a+b)"
   ]
  },
  {
   "cell_type": "code",
   "execution_count": null,
   "id": "8bfe450c",
   "metadata": {},
   "outputs": [],
   "source": []
  }
 ],
 "metadata": {
  "kernelspec": {
   "display_name": "base",
   "language": "python",
   "name": "python3"
  },
  "language_info": {
   "codemirror_mode": {
    "name": "ipython",
    "version": 3
   },
   "file_extension": ".py",
   "mimetype": "text/x-python",
   "name": "python",
   "nbconvert_exporter": "python",
   "pygments_lexer": "ipython3",
   "version": "3.12.9"
  }
 },
 "nbformat": 4,
 "nbformat_minor": 5
}

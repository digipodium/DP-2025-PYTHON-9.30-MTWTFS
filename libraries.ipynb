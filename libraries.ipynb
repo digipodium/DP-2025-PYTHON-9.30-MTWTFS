{
 "cells": [
  {
   "cell_type": "code",
   "execution_count": 1,
   "id": "83a8bed1",
   "metadata": {},
   "outputs": [],
   "source": [
    "import math"
   ]
  },
  {
   "cell_type": "code",
   "execution_count": 11,
   "id": "6eb0de13",
   "metadata": {},
   "outputs": [
    {
     "name": "stdout",
     "output_type": "stream",
     "text": [
      "120\n",
      "4.0\n",
      "12\n",
      "2\n",
      "3.141592653589793\n",
      "0.0\n",
      "0.8414709848078965\n"
     ]
    }
   ],
   "source": [
    "print(math.factorial(5))\n",
    "print(math.sqrt(16))\n",
    "print(math.lcm(2,4,3))\n",
    "print(math.gcd(2,4))\n",
    "print(math.pi)\n",
    "print(math.log(1))\n",
    "print(math.sin(1))"
   ]
  },
  {
   "cell_type": "code",
   "execution_count": 12,
   "id": "7c30c2d0",
   "metadata": {},
   "outputs": [],
   "source": [
    "from random import random, randint, choice, shuffle"
   ]
  },
  {
   "cell_type": "code",
   "execution_count": 21,
   "id": "aa86021d",
   "metadata": {},
   "outputs": [
    {
     "name": "stdout",
     "output_type": "stream",
     "text": [
      "get a random number between 0 and 1:  0.12120957262943333\n",
      "get a random number between 1 and 100:  38\n",
      "Select a random element from a list:  4\n",
      "Shuffled List :  ['Jane', 'Jill', 'Jack', 'John']\n"
     ]
    }
   ],
   "source": [
    "print('get a random number between 0 and 1: ', random())\n",
    "print('get a random number between 1 and 100: ', randint(1,100))\n",
    "print('Select a random element from a list: ', choice([1,2,3,4,5,6,7,8,9,10]))\n",
    "names = ['John','Jane','Jack','Jill']\n",
    "shuffle(names)\n",
    "print('Shuffled List : ',names)"
   ]
  },
  {
   "cell_type": "code",
   "execution_count": 22,
   "id": "b71f5a07",
   "metadata": {},
   "outputs": [],
   "source": [
    "from datetime import datetime as dt"
   ]
  },
  {
   "cell_type": "code",
   "execution_count": 23,
   "id": "9db624cb",
   "metadata": {},
   "outputs": [
    {
     "name": "stdout",
     "output_type": "stream",
     "text": [
      "Current Date and Time :  2025-07-03 10:40:14.437715\n"
     ]
    }
   ],
   "source": [
    "print('Current Date and Time : ', dt.now())"
   ]
  },
  {
   "cell_type": "code",
   "execution_count": 25,
   "id": "aac8b33e",
   "metadata": {},
   "outputs": [
    {
     "name": "stdout",
     "output_type": "stream",
     "text": [
      "Current Date :  2025-07-03\n",
      "Current Time :  10:47:28.920317\n"
     ]
    }
   ],
   "source": [
    "print('Current Date : ', dt.now().date())\n",
    "print('Current Time : ', dt.now().time())"
   ]
  },
  {
   "cell_type": "code",
   "execution_count": null,
   "id": "b0424983",
   "metadata": {},
   "outputs": [
    {
     "name": "stdout",
     "output_type": "stream",
     "text": [
      "Current year :  2025\n",
      "Current month :  7\n",
      "Current Date :  3\n",
      "Current hour :  10\n",
      "Current minute :  51\n",
      "Current second :  4\n",
      "Current Weekday :  3\n"
     ]
    }
   ],
   "source": [
    "print('Current year : ', dt.now().year)\n",
    "print('Current month : ',dt.now().month)\n",
    "print('Current Date : ', dt.now().day)\n",
    "print('Current hour : ',dt.now().hour)\n",
    "print('Current minute : ',dt.now().minute)\n",
    "print('Current second : ',dt.now().second)\n",
    "print('Current Weekday : ',dt.now().weekday())"
   ]
  },
  {
   "cell_type": "code",
   "execution_count": 28,
   "id": "79c1eb14",
   "metadata": {},
   "outputs": [
    {
     "name": "stdout",
     "output_type": "stream",
     "text": [
      "03 / 07 / 25\n"
     ]
    }
   ],
   "source": [
    "date = dt.strftime(dt.now(), '%d / %m / %y')\n",
    "print(date)"
   ]
  },
  {
   "cell_type": "code",
   "execution_count": null,
   "id": "278d88f9",
   "metadata": {},
   "outputs": [
    {
     "name": "stdout",
     "output_type": "stream",
     "text": [
      "10 : 55\n"
     ]
    }
   ],
   "source": [
    "time = dt.strftime(dt.now(), '%H : %M : %S')\n",
    "print(time)"
   ]
  },
  {
   "cell_type": "code",
   "execution_count": null,
   "id": "203fff98",
   "metadata": {},
   "outputs": [],
   "source": []
  }
 ],
 "metadata": {
  "kernelspec": {
   "display_name": "base",
   "language": "python",
   "name": "python3"
  },
  "language_info": {
   "codemirror_mode": {
    "name": "ipython",
    "version": 3
   },
   "file_extension": ".py",
   "mimetype": "text/x-python",
   "name": "python",
   "nbconvert_exporter": "python",
   "pygments_lexer": "ipython3",
   "version": "3.12.9"
  }
 },
 "nbformat": 4,
 "nbformat_minor": 5
}

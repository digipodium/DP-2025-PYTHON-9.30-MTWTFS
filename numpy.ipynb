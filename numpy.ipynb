{
 "cells": [
  {
   "cell_type": "code",
   "execution_count": 1,
   "id": "042ee186",
   "metadata": {},
   "outputs": [],
   "source": [
    "import numpy as np"
   ]
  },
  {
   "cell_type": "code",
   "execution_count": 2,
   "id": "f677e6e3",
   "metadata": {},
   "outputs": [
    {
     "name": "stdout",
     "output_type": "stream",
     "text": [
      "[1 2 3 4 5 6 7 8]\n",
      "[8 7 6 5 4 3 2 1]\n"
     ]
    }
   ],
   "source": [
    "a = np.array([1,2,3,4,5,6,7,8])\n",
    "b = np.array([8,7,6,5,4,3,2,1])\n",
    "print(a)\n",
    "print(b)"
   ]
  },
  {
   "cell_type": "code",
   "execution_count": 3,
   "id": "c9f1b739",
   "metadata": {},
   "outputs": [
    {
     "data": {
      "text/plain": [
       "numpy.ndarray"
      ]
     },
     "execution_count": 3,
     "metadata": {},
     "output_type": "execute_result"
    }
   ],
   "source": [
    "type(a)"
   ]
  },
  {
   "cell_type": "code",
   "execution_count": 4,
   "id": "65019950",
   "metadata": {},
   "outputs": [
    {
     "name": "stdout",
     "output_type": "stream",
     "text": [
      "[9 9 9 9 9 9 9 9]\n",
      "[-7 -5 -3 -1  1  3  5  7]\n",
      "[ 8 14 18 20 20 18 14  8]\n"
     ]
    }
   ],
   "source": [
    "print(a+b)\n",
    "print(a-b)\n",
    "print(a*b)"
   ]
  },
  {
   "cell_type": "code",
   "execution_count": 5,
   "id": "0ae8773e",
   "metadata": {},
   "outputs": [
    {
     "name": "stdout",
     "output_type": "stream",
     "text": [
      "[[1 2]\n",
      " [3 4]]\n"
     ]
    }
   ],
   "source": [
    "#creating a 2d array\n",
    "a2 = np.array([[1,2],[3,4]])\n",
    "print(a2)"
   ]
  },
  {
   "cell_type": "code",
   "execution_count": 6,
   "id": "4a52bb05",
   "metadata": {},
   "outputs": [
    {
     "name": "stdout",
     "output_type": "stream",
     "text": [
      "[[[1 2]\n",
      "  [3 4]]\n",
      "\n",
      " [[4 5]\n",
      "  [5 6]]]\n"
     ]
    }
   ],
   "source": [
    "#3d array\n",
    "a3 = np.array([[[1,2],[3,4]],[[4,5],[5,6]]])\n",
    "print(a3)"
   ]
  },
  {
   "cell_type": "code",
   "execution_count": 10,
   "id": "78189b46",
   "metadata": {},
   "outputs": [
    {
     "name": "stdout",
     "output_type": "stream",
     "text": [
      "(2, 2)\n",
      "3\n",
      "int64\n"
     ]
    }
   ],
   "source": [
    "print(a2.shape)\n",
    "print(a3.ndim)\n",
    "print(a2.dtype)"
   ]
  },
  {
   "cell_type": "code",
   "execution_count": 11,
   "id": "37a6a94e",
   "metadata": {},
   "outputs": [
    {
     "name": "stdout",
     "output_type": "stream",
     "text": [
      "[1, 2, 3, 4, 5, 6, 7, 8, 9, 10, 11, 12, 13, 14, 15, 16, 17, 18, 19, 20]\n"
     ]
    }
   ],
   "source": [
    "lst = []\n",
    "for i in range(1,21):\n",
    "    lst.append(i)\n",
    "print(lst)"
   ]
  },
  {
   "cell_type": "code",
   "execution_count": 14,
   "id": "272f3776",
   "metadata": {},
   "outputs": [
    {
     "data": {
      "text/plain": [
       "array([ 2,  4,  6,  8, 10, 12, 14, 16, 18, 20])"
      ]
     },
     "execution_count": 14,
     "metadata": {},
     "output_type": "execute_result"
    }
   ],
   "source": [
    "np.arange(10)\n",
    "np.arange(2,21)\n",
    "np.arange(2,21,2)"
   ]
  },
  {
   "cell_type": "code",
   "execution_count": 16,
   "id": "bcdfa55c",
   "metadata": {},
   "outputs": [
    {
     "data": {
      "text/plain": [
       "array([[ 8,  7, 10],\n",
       "       [ 2,  8, 10]], dtype=int32)"
      ]
     },
     "execution_count": 16,
     "metadata": {},
     "output_type": "execute_result"
    }
   ],
   "source": [
    "np.random.randint(1,11, size=(2,3))"
   ]
  },
  {
   "cell_type": "code",
   "execution_count": 18,
   "id": "0b8f930f",
   "metadata": {},
   "outputs": [
    {
     "name": "stdout",
     "output_type": "stream",
     "text": [
      "[[7 2 3]\n",
      " [2 5 2]\n",
      " [3 5 1]]\n",
      "[[1 8 3]\n",
      " [3 7 2]\n",
      " [2 5 3]]\n"
     ]
    }
   ],
   "source": [
    "x = np.array([[7,2,3],\n",
    "             [2,5,2],\n",
    "             [3,5,1]])\n",
    "\n",
    "y = np.array([[1,8,3],\n",
    "              [3,7,2],\n",
    "              [2,5,3]])\n",
    "print(x)\n",
    "print(y)"
   ]
  },
  {
   "cell_type": "code",
   "execution_count": 19,
   "id": "283679b1",
   "metadata": {},
   "outputs": [
    {
     "name": "stdout",
     "output_type": "stream",
     "text": [
      "[[ 7 16  9]\n",
      " [ 6 35  4]\n",
      " [ 6 25  3]]\n"
     ]
    }
   ],
   "source": [
    "print(x*y)"
   ]
  },
  {
   "cell_type": "code",
   "execution_count": null,
   "id": "2144c52c",
   "metadata": {},
   "outputs": [
    {
     "name": "stdout",
     "output_type": "stream",
     "text": [
      "[[19 85 34]\n",
      " [21 61 22]\n",
      " [20 64 22]]\n"
     ]
    }
   ],
   "source": [
    "print(x@y) #matrix multiplication"
   ]
  },
  {
   "cell_type": "code",
   "execution_count": 22,
   "id": "0f83701c",
   "metadata": {},
   "outputs": [
    {
     "data": {
      "text/plain": [
       "array([[19, 85, 34],\n",
       "       [21, 61, 22],\n",
       "       [20, 64, 22]])"
      ]
     },
     "execution_count": 22,
     "metadata": {},
     "output_type": "execute_result"
    }
   ],
   "source": [
    "np.dot(x,y) #matrix multiplication"
   ]
  },
  {
   "cell_type": "code",
   "execution_count": 23,
   "id": "2447fe71",
   "metadata": {},
   "outputs": [
    {
     "data": {
      "text/plain": [
       "np.int64(12600)"
      ]
     },
     "execution_count": 23,
     "metadata": {},
     "output_type": "execute_result"
    }
   ],
   "source": [
    "x.prod() #product of all elements of the array"
   ]
  },
  {
   "cell_type": "code",
   "execution_count": 25,
   "id": "e24d7ae3",
   "metadata": {},
   "outputs": [
    {
     "data": {
      "text/plain": [
       "np.float64(3.3333333333333335)"
      ]
     },
     "execution_count": 25,
     "metadata": {},
     "output_type": "execute_result"
    }
   ],
   "source": [
    "x.mean() #mean of all elements"
   ]
  },
  {
   "cell_type": "code",
   "execution_count": 26,
   "id": "16b74f69",
   "metadata": {},
   "outputs": [
    {
     "data": {
      "text/plain": [
       "np.float64(3.7777777777777777)"
      ]
     },
     "execution_count": 26,
     "metadata": {},
     "output_type": "execute_result"
    }
   ],
   "source": [
    "y.mean()"
   ]
  },
  {
   "cell_type": "code",
   "execution_count": 28,
   "id": "5e82ce25",
   "metadata": {},
   "outputs": [
    {
     "name": "stdout",
     "output_type": "stream",
     "text": [
      "[[7 2 3]\n",
      " [2 5 2]\n",
      " [3 5 1]]\n"
     ]
    }
   ],
   "source": [
    "print(x)"
   ]
  },
  {
   "cell_type": "code",
   "execution_count": null,
   "id": "6b40de5a",
   "metadata": {},
   "outputs": [
    {
     "data": {
      "text/plain": [
       "array([4., 4., 2.])"
      ]
     },
     "execution_count": 27,
     "metadata": {},
     "output_type": "execute_result"
    }
   ],
   "source": [
    "x.mean(axis = 0) #column wise mean"
   ]
  },
  {
   "cell_type": "code",
   "execution_count": 29,
   "id": "a18647ae",
   "metadata": {},
   "outputs": [
    {
     "data": {
      "text/plain": [
       "array([4.        , 4.        , 3.33333333])"
      ]
     },
     "execution_count": 29,
     "metadata": {},
     "output_type": "execute_result"
    }
   ],
   "source": [
    "y.mean(axis = 1) #row wise mean"
   ]
  },
  {
   "cell_type": "code",
   "execution_count": 30,
   "id": "de3d1fb9",
   "metadata": {},
   "outputs": [
    {
     "name": "stdout",
     "output_type": "stream",
     "text": [
      "30\n",
      "1.8257418583505538\n",
      "3.3333333333333335\n"
     ]
    }
   ],
   "source": [
    "print(x.sum())\n",
    "print(x.std())\n",
    "print(x.var())"
   ]
  },
  {
   "cell_type": "code",
   "execution_count": null,
   "id": "d0bd8d46",
   "metadata": {},
   "outputs": [
    {
     "name": "stdout",
     "output_type": "stream",
     "text": [
      "3.0\n",
      "5.0\n",
      "7.0\n"
     ]
    }
   ],
   "source": [
    "a = np.array([1,2,3,4,5,6,7,8,9])\n",
    "print(np.percentile(a,25)) #1st quartile\n",
    "print(np.percentile(a,50)) #median\n",
    "print(np.percentile(a,75)) #3rd quartile"
   ]
  },
  {
   "cell_type": "code",
   "execution_count": 34,
   "id": "6fb2ed38",
   "metadata": {},
   "outputs": [
    {
     "name": "stdout",
     "output_type": "stream",
     "text": [
      "[[84 24 67 38]\n",
      " [91 94 41 45]\n",
      " [54 94 79 14]\n",
      " [97 34 56 27]]\n"
     ]
    }
   ],
   "source": [
    "b = np.random.randint(11,100, (4,4))\n",
    "print(b)"
   ]
  },
  {
   "cell_type": "code",
   "execution_count": 38,
   "id": "f8b40236",
   "metadata": {},
   "outputs": [
    {
     "name": "stdout",
     "output_type": "stream",
     "text": [
      "2X8\n",
      "[[84 24 67 38 91 94 41 45]\n",
      " [54 94 79 14 97 34 56 27]]\n",
      "8X2\n",
      "[[84 24]\n",
      " [67 38]\n",
      " [91 94]\n",
      " [41 45]\n",
      " [54 94]\n",
      " [79 14]\n",
      " [97 34]\n",
      " [56 27]]\n"
     ]
    }
   ],
   "source": [
    "print('2X8')\n",
    "print(b.reshape(2,8))\n",
    "print('8X2')\n",
    "print(b.reshape(8,2))"
   ]
  },
  {
   "cell_type": "code",
   "execution_count": 40,
   "id": "3865e1b4",
   "metadata": {},
   "outputs": [
    {
     "name": "stdout",
     "output_type": "stream",
     "text": [
      "[[ 8  4  6  1  6]\n",
      " [ 1  5  7  9  7]\n",
      " [ 5 10  9  2  8]\n",
      " [ 3  9  5  4  1]\n",
      " [ 8  9  4  9 10]]\n"
     ]
    }
   ],
   "source": [
    "x = np.random.randint(1,11 ,(5,5))\n",
    "print(x)"
   ]
  },
  {
   "cell_type": "code",
   "execution_count": 45,
   "id": "de46fd7f",
   "metadata": {},
   "outputs": [
    {
     "name": "stdout",
     "output_type": "stream",
     "text": [
      "[8 4 6 1 6]\n",
      "4\n",
      "[ 8  9  4  9 10]\n",
      "[[ 8  4  6  1  6]\n",
      " [ 1  5  7  9  7]\n",
      " [ 5 10  9  2  8]]\n",
      "[[ 3  9  5  4  1]\n",
      " [ 8  9  4  9 10]]\n"
     ]
    }
   ],
   "source": [
    "print(x[0]) #1st row\n",
    "print(x[0,1]) #1st row and 2nd column's first element\n",
    "print(x[-1])\n",
    "\n",
    "print(x[:3])\n",
    "print(x[3:])"
   ]
  },
  {
   "cell_type": "code",
   "execution_count": null,
   "id": "f2f81bde",
   "metadata": {},
   "outputs": [],
   "source": []
  }
 ],
 "metadata": {
  "kernelspec": {
   "display_name": "base",
   "language": "python",
   "name": "python3"
  },
  "language_info": {
   "codemirror_mode": {
    "name": "ipython",
    "version": 3
   },
   "file_extension": ".py",
   "mimetype": "text/x-python",
   "name": "python",
   "nbconvert_exporter": "python",
   "pygments_lexer": "ipython3",
   "version": "3.12.9"
  }
 },
 "nbformat": 4,
 "nbformat_minor": 5
}

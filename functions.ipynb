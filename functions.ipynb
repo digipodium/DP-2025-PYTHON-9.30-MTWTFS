{
 "cells": [
  {
   "cell_type": "markdown",
   "id": "c5a13e71",
   "metadata": {},
   "source": [
    "Types Of Functions\n",
    "- User defined functions\n",
    "    - parameterized\n",
    "    - non parameterized\n",
    "    - return \n",
    "    - non return\n",
    "    - default parameterized\n",
    "    - lambda\n",
    "- Built-in functions"
   ]
  },
  {
   "cell_type": "code",
   "execution_count": 15,
   "id": "6fe40d70",
   "metadata": {},
   "outputs": [],
   "source": [
    "#non parameterized function\n",
    "def greet(): #function initialization\n",
    "    print(\"Hello, Good morning!\")\n",
    "    print(\"how are you\")\n",
    "    print(\"i am good, thankyou\")"
   ]
  },
  {
   "cell_type": "code",
   "execution_count": 16,
   "id": "aac87a08",
   "metadata": {},
   "outputs": [
    {
     "name": "stdout",
     "output_type": "stream",
     "text": [
      "Hello, Good morning!\n",
      "how are you\n",
      "i am good, thankyou\n"
     ]
    }
   ],
   "source": [
    "#function calling\n",
    "greet()"
   ]
  },
  {
   "cell_type": "code",
   "execution_count": 17,
   "id": "bbc212f3",
   "metadata": {},
   "outputs": [
    {
     "name": "stdout",
     "output_type": "stream",
     "text": [
      "Hello, Good morning!\n",
      "how are you\n",
      "i am good, thankyou\n"
     ]
    }
   ],
   "source": [
    "greet()"
   ]
  },
  {
   "cell_type": "code",
   "execution_count": 18,
   "id": "dd543ad6",
   "metadata": {},
   "outputs": [
    {
     "name": "stdout",
     "output_type": "stream",
     "text": [
      "60\n"
     ]
    }
   ],
   "source": [
    "#parameterized function\n",
    "def add(a,b,c):\n",
    "    print(a+b+c)\n",
    "\n",
    "add(10,20,30) #arguments"
   ]
  },
  {
   "cell_type": "code",
   "execution_count": 19,
   "id": "39062482",
   "metadata": {},
   "outputs": [
    {
     "name": "stdout",
     "output_type": "stream",
     "text": [
      "False\n"
     ]
    }
   ],
   "source": [
    "def even(num):\n",
    "    result = num % 2 == 0\n",
    "    print(result)\n",
    "\n",
    "even(17)"
   ]
  },
  {
   "cell_type": "code",
   "execution_count": 21,
   "id": "8388a4d7",
   "metadata": {},
   "outputs": [
    {
     "name": "stdout",
     "output_type": "stream",
     "text": [
      "odd\n"
     ]
    }
   ],
   "source": [
    "def eve_odd(num):\n",
    "    if num%2==0:\n",
    "        print(\"even\")\n",
    "    else:\n",
    "        print(\"odd\")\n",
    "\n",
    "eve_odd(17)"
   ]
  },
  {
   "cell_type": "code",
   "execution_count": 22,
   "id": "89c6a88b",
   "metadata": {},
   "outputs": [
    {
     "name": "stdout",
     "output_type": "stream",
     "text": [
      "odd\n"
     ]
    }
   ],
   "source": [
    "def eve_odd(num):\n",
    "    if num%2==0:\n",
    "        print(\"even\")\n",
    "    else:\n",
    "        print(\"odd\")\n",
    "\n",
    "result = int(input(\"Enter a number\"))\n",
    "eve_odd(result)"
   ]
  },
  {
   "cell_type": "code",
   "execution_count": 23,
   "id": "d6688835",
   "metadata": {},
   "outputs": [
    {
     "name": "stdout",
     "output_type": "stream",
     "text": [
      "Alice\n"
     ]
    }
   ],
   "source": [
    "name = \"Alice\"\n",
    "print(name)"
   ]
  },
  {
   "cell_type": "code",
   "execution_count": 24,
   "id": "af4e50ca",
   "metadata": {},
   "outputs": [
    {
     "name": "stdout",
     "output_type": "stream",
     "text": [
      "my name is Alice\n"
     ]
    }
   ],
   "source": [
    "print(f\"my name is {name}\")"
   ]
  },
  {
   "cell_type": "code",
   "execution_count": 25,
   "id": "0ef1c1de",
   "metadata": {},
   "outputs": [
    {
     "name": "stdout",
     "output_type": "stream",
     "text": [
      "Alice\n"
     ]
    }
   ],
   "source": [
    "print(\"Alice\")"
   ]
  },
  {
   "cell_type": "code",
   "execution_count": null,
   "id": "25387579",
   "metadata": {},
   "outputs": [
    {
     "name": "stdout",
     "output_type": "stream",
     "text": [
      "200\n"
     ]
    }
   ],
   "source": [
    "#non return function\n",
    "def mul(a,b):\n",
    "    print(a*b)\n",
    "\n",
    "mul(10,20)"
   ]
  },
  {
   "cell_type": "code",
   "execution_count": null,
   "id": "cb081edd",
   "metadata": {},
   "outputs": [
    {
     "name": "stdout",
     "output_type": "stream",
     "text": [
      "200\n"
     ]
    }
   ],
   "source": [
    "#return function\n",
    "def mul(a,b):\n",
    "    return a*b\n",
    "\n",
    "a = mul(10,20)\n",
    "print(a)"
   ]
  },
  {
   "cell_type": "code",
   "execution_count": 38,
   "id": "7601fd81",
   "metadata": {},
   "outputs": [
    {
     "name": "stdout",
     "output_type": "stream",
     "text": [
      "I love USA\n",
      "I love America\n",
      "I love India\n"
     ]
    }
   ],
   "source": [
    "#default parameterized function\n",
    "def my_country(name = \"India\"):\n",
    "    return f\"I love {name}\"\n",
    "\n",
    "print(my_country(\"USA\"))\n",
    "print(my_country(\"America\"))\n",
    "print(my_country())\n"
   ]
  },
  {
   "cell_type": "markdown",
   "id": "538e8e30",
   "metadata": {},
   "source": [
    "LAMBDA FUNCTIONS"
   ]
  },
  {
   "cell_type": "code",
   "execution_count": 1,
   "id": "23fa5563",
   "metadata": {},
   "outputs": [],
   "source": [
    "#LAMBDA FUNCTION FOR EVEN NUMBERS\n",
    "even = lambda x : \"Even\" if x % 2 == 0 else \"odd\""
   ]
  },
  {
   "cell_type": "code",
   "execution_count": 2,
   "id": "e0c5d366",
   "metadata": {},
   "outputs": [
    {
     "name": "stdout",
     "output_type": "stream",
     "text": [
      "Even\n"
     ]
    }
   ],
   "source": [
    "print(even(2))"
   ]
  },
  {
   "cell_type": "code",
   "execution_count": 3,
   "id": "922a0d5a",
   "metadata": {},
   "outputs": [
    {
     "name": "stdout",
     "output_type": "stream",
     "text": [
      "16\n"
     ]
    }
   ],
   "source": [
    "square = lambda x : x**2\n",
    "print(square(4))"
   ]
  },
  {
   "cell_type": "code",
   "execution_count": 4,
   "id": "5ec1e10c",
   "metadata": {},
   "outputs": [
    {
     "name": "stdout",
     "output_type": "stream",
     "text": [
      "Equilateral\n"
     ]
    }
   ],
   "source": [
    "equilateral = lambda a,b,c : \"Equilateral\" if a==b==c else \"no equilateral\"\n",
    "print(equilateral(2,2,2))"
   ]
  },
  {
   "cell_type": "code",
   "execution_count": null,
   "id": "e4b16373",
   "metadata": {},
   "outputs": [],
   "source": []
  }
 ],
 "metadata": {
  "kernelspec": {
   "display_name": "base",
   "language": "python",
   "name": "python3"
  },
  "language_info": {
   "codemirror_mode": {
    "name": "ipython",
    "version": 3
   },
   "file_extension": ".py",
   "mimetype": "text/x-python",
   "name": "python",
   "nbconvert_exporter": "python",
   "pygments_lexer": "ipython3",
   "version": "3.12.9"
  }
 },
 "nbformat": 4,
 "nbformat_minor": 5
}

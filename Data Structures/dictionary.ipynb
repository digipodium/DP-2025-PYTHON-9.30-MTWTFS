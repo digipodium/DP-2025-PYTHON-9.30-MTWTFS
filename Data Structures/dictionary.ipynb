{
 "cells": [
  {
   "cell_type": "code",
   "execution_count": 11,
   "id": "70189083",
   "metadata": {},
   "outputs": [
    {
     "name": "stdout",
     "output_type": "stream",
     "text": [
      "{'name': 'john', 'age': 20, 'class': '12th', 'gender': 'M'}\n"
     ]
    }
   ],
   "source": [
    "student = {\n",
    "    \"name\": input(\"Enter student's name: \"),\n",
    "    \"age\": 20,\n",
    "    \"class\" : \"12th\",\n",
    "    \"gender\" : \"M\"\n",
    "}\n",
    "print(student)"
   ]
  },
  {
   "cell_type": "markdown",
   "id": "2f3deec0",
   "metadata": {},
   "source": [
    "- how to declare it\n",
    "- how to access key and value pairs\n",
    "- how to use loops in dictionary\n",
    "- indexing in dictionary"
   ]
  },
  {
   "cell_type": "code",
   "execution_count": 4,
   "id": "82fc195b",
   "metadata": {},
   "outputs": [
    {
     "name": "stdout",
     "output_type": "stream",
     "text": [
      "{'lucknow': [30, 35, 45], 'delhi': [32, 36, 40], 'mumbai': [28, 30, 35]}\n"
     ]
    }
   ],
   "source": [
    "temp = {\n",
    "    'lucknow' : [30,35,45],\n",
    "    'delhi' : [32,36,40],\n",
    "    'mumbai' : [28,30,35],\n",
    "}\n",
    "print(temp)"
   ]
  },
  {
   "cell_type": "code",
   "execution_count": 12,
   "id": "93fcc824",
   "metadata": {},
   "outputs": [
    {
     "name": "stdout",
     "output_type": "stream",
     "text": [
      "{'name': 'John', 'age': 20, 'grade': '12th'}\n"
     ]
    }
   ],
   "source": [
    "info = dict(name = input(\"Enter the name\"), age = 20, grade = \"12th\")\n",
    "print(info)"
   ]
  },
  {
   "cell_type": "code",
   "execution_count": 14,
   "id": "b9f7f6e6",
   "metadata": {},
   "outputs": [
    {
     "name": "stdout",
     "output_type": "stream",
     "text": [
      "john\n",
      "20\n"
     ]
    }
   ],
   "source": [
    "#1st method to access value through key\n",
    "print(student['name'])\n",
    "print(info['age'])"
   ]
  },
  {
   "cell_type": "code",
   "execution_count": 16,
   "id": "4822446f",
   "metadata": {},
   "outputs": [
    {
     "name": "stdout",
     "output_type": "stream",
     "text": [
      "12th\n",
      "12th\n"
     ]
    }
   ],
   "source": [
    "#2nd method to access value through key\n",
    "print(student.get('class'))\n",
    "print(info.get('grade'))"
   ]
  },
  {
   "cell_type": "code",
   "execution_count": 17,
   "id": "a5bb33af",
   "metadata": {},
   "outputs": [
    {
     "name": "stdout",
     "output_type": "stream",
     "text": [
      "{'name': 'john', 'age': 20, 'class': '12th', 'gender': 'M', 'city': 'New York'}\n"
     ]
    }
   ],
   "source": [
    "# to add new key-value pair\n",
    "student['city'] = 'New York'\n",
    "print(student)"
   ]
  },
  {
   "cell_type": "code",
   "execution_count": null,
   "id": "214332eb",
   "metadata": {},
   "outputs": [],
   "source": [
    "#to delete a key-value pair\n",
    "del student['gender']"
   ]
  },
  {
   "cell_type": "code",
   "execution_count": 22,
   "id": "554cc87c",
   "metadata": {},
   "outputs": [
    {
     "name": "stdout",
     "output_type": "stream",
     "text": [
      "{'name': 'john', 'class': '12th', 'city': 'New York'}\n"
     ]
    }
   ],
   "source": [
    "print(student)"
   ]
  },
  {
   "cell_type": "code",
   "execution_count": 23,
   "id": "4ad3de90",
   "metadata": {},
   "outputs": [
    {
     "name": "stdout",
     "output_type": "stream",
     "text": [
      "{'name': ['John', 'Doe', 'Jane', 'Smith'], 'age': [20, 21, 22, 23]}\n"
     ]
    }
   ],
   "source": [
    "student = {\n",
    "    \"name\": ['John', 'Doe','Jane','Smith'],\n",
    "    \"age\": [20, 21, 22, 23],\n",
    "}\n",
    "print(student)"
   ]
  },
  {
   "cell_type": "code",
   "execution_count": 26,
   "id": "5ed85e15",
   "metadata": {},
   "outputs": [
    {
     "name": "stdout",
     "output_type": "stream",
     "text": [
      "{'name': ['John', 'Doe', 'Jane', 'Smith', 'Alice', 'Alice'], 'age': [20, 21, 22, 23]}\n"
     ]
    }
   ],
   "source": [
    "student['name'].append('Alice')\n",
    "print(student)"
   ]
  },
  {
   "cell_type": "code",
   "execution_count": 29,
   "id": "aa53c0ba",
   "metadata": {},
   "outputs": [
    {
     "name": "stdout",
     "output_type": "stream",
     "text": [
      "dict_keys(['name', 'age'])\n",
      "dict_values([['John', 'Doe', 'Jane', 'Smith', 'Alice', 'Alice'], [20, 21, 22, 23]])\n",
      "dict_items([('name', ['John', 'Doe', 'Jane', 'Smith', 'Alice', 'Alice']), ('age', [20, 21, 22, 23])])\n"
     ]
    }
   ],
   "source": [
    "print(student.keys())\n",
    "print(student.values())\n",
    "print(student.items())"
   ]
  },
  {
   "cell_type": "code",
   "execution_count": 34,
   "id": "e649e9b8",
   "metadata": {},
   "outputs": [
    {
     "name": "stdout",
     "output_type": "stream",
     "text": [
      "name age "
     ]
    }
   ],
   "source": [
    "for v in student:\n",
    "    print(v , end=' ')"
   ]
  },
  {
   "cell_type": "code",
   "execution_count": 36,
   "id": "958927e6",
   "metadata": {},
   "outputs": [
    {
     "name": "stdout",
     "output_type": "stream",
     "text": [
      "name : John\n",
      "age : 20\n",
      "grade : 12th\n"
     ]
    }
   ],
   "source": [
    "for k,v in info.items():\n",
    "    print(f\"{k} : {v}\")"
   ]
  },
  {
   "cell_type": "code",
   "execution_count": 39,
   "id": "7c601dea",
   "metadata": {},
   "outputs": [
    {
     "name": "stdout",
     "output_type": "stream",
     "text": [
      "sum of 10 and 5 is 15\n",
      "sum of 10 and 5 is 15\n"
     ]
    }
   ],
   "source": [
    "a = 10\n",
    "b = 5\n",
    "sum = a + b\n",
    "print(\"sum of\",a,\"and\",b,\"is\",sum)\n",
    "print(f\"sum of {a} and {b} is {sum}\")"
   ]
  },
  {
   "cell_type": "code",
   "execution_count": 40,
   "id": "61c3da49",
   "metadata": {},
   "outputs": [
    {
     "name": "stdout",
     "output_type": "stream",
     "text": [
      "{'emp001': {'name': 'Alice', 'age': 30, 'department': 'HR'}, 'emp002': {'name': 'Bob', 'age': 25, 'department': 'IT'}, 'emp003': {'name': 'Charlie', 'age': 28, 'department': 'Finance'}}\n"
     ]
    }
   ],
   "source": [
    "company = {\n",
    "    \"emp001\" : {\"name\": \"Alice\", \"age\": 30, \"department\": \"HR\"},\n",
    "    \"emp002\" : {\"name\": \"Bob\", \"age\": 25, \"department\": \"IT\"},\n",
    "    \"emp003\" : {\"name\": \"Charlie\", \"age\": 28, \"department\": \"Finance\"}\n",
    "}\n",
    "print(company)"
   ]
  },
  {
   "cell_type": "code",
   "execution_count": 41,
   "id": "255b2f4f",
   "metadata": {},
   "outputs": [],
   "source": [
    "from pprint import pprint"
   ]
  },
  {
   "cell_type": "code",
   "execution_count": 45,
   "id": "921ca274",
   "metadata": {},
   "outputs": [
    {
     "name": "stdout",
     "output_type": "stream",
     "text": [
      "{'emp001': {'age': 30, 'department': 'HR', 'name': 'Alice'},\n",
      " 'emp002': {'age': 25, 'department': 'IT', 'name': 'Bob'},\n",
      " 'emp003': {'age': 28, 'department': 'Finance', 'name': 'Charlie'}}\n"
     ]
    }
   ],
   "source": [
    "pprint(company)"
   ]
  },
  {
   "cell_type": "code",
   "execution_count": 43,
   "id": "dba5bc59",
   "metadata": {},
   "outputs": [
    {
     "data": {
      "text/plain": [
       "'IT'"
      ]
     },
     "execution_count": 43,
     "metadata": {},
     "output_type": "execute_result"
    }
   ],
   "source": [
    "company['emp002']['department']"
   ]
  },
  {
   "cell_type": "code",
   "execution_count": null,
   "id": "902bffe1",
   "metadata": {},
   "outputs": [],
   "source": [
    "#calculate the average temperature of lucknow"
   ]
  }
 ],
 "metadata": {
  "kernelspec": {
   "display_name": "base",
   "language": "python",
   "name": "python3"
  },
  "language_info": {
   "codemirror_mode": {
    "name": "ipython",
    "version": 3
   },
   "file_extension": ".py",
   "mimetype": "text/x-python",
   "name": "python",
   "nbconvert_exporter": "python",
   "pygments_lexer": "ipython3",
   "version": "3.12.9"
  }
 },
 "nbformat": 4,
 "nbformat_minor": 5
}

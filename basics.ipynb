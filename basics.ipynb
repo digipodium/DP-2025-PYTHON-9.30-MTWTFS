{
 "cells": [
  {
   "cell_type": "markdown",
   "id": "8c80d3b4",
   "metadata": {},
   "source": [
    "heading"
   ]
  },
  {
   "cell_type": "markdown",
   "id": "5a09c6f2",
   "metadata": {},
   "source": [
    "# heading\n",
    "## heading\n",
    "###### heading"
   ]
  },
  {
   "cell_type": "markdown",
   "id": "02d4c024",
   "metadata": {},
   "source": [
    "- point1\n",
    "    - subpoint1\n",
    "- point2\n",
    "- point3"
   ]
  },
  {
   "cell_type": "code",
   "execution_count": 1,
   "id": "d6fabe24",
   "metadata": {},
   "outputs": [
    {
     "name": "stdout",
     "output_type": "stream",
     "text": [
      "10\n"
     ]
    }
   ],
   "source": [
    "a = 10\n",
    "print(a)"
   ]
  },
  {
   "cell_type": "code",
   "execution_count": 4,
   "id": "3967b823",
   "metadata": {},
   "outputs": [
    {
     "data": {
      "text/plain": [
       "False"
      ]
     },
     "execution_count": 4,
     "metadata": {},
     "output_type": "execute_result"
    }
   ],
   "source": [
    "a = 10\n",
    "b = 20\n",
    "c = 15\n",
    "not(a<b or a>c)"
   ]
  },
  {
   "cell_type": "code",
   "execution_count": 5,
   "id": "e67f20c6",
   "metadata": {},
   "outputs": [
    {
     "data": {
      "text/plain": [
       "False"
      ]
     },
     "execution_count": 5,
     "metadata": {},
     "output_type": "execute_result"
    }
   ],
   "source": [
    "a is b"
   ]
  },
  {
   "cell_type": "code",
   "execution_count": null,
   "id": "f7e5adb6",
   "metadata": {},
   "outputs": [],
   "source": []
  }
 ],
 "metadata": {
  "kernelspec": {
   "display_name": "base",
   "language": "python",
   "name": "python3"
  },
  "language_info": {
   "codemirror_mode": {
    "name": "ipython",
    "version": 3
   },
   "file_extension": ".py",
   "mimetype": "text/x-python",
   "name": "python",
   "nbconvert_exporter": "python",
   "pygments_lexer": "ipython3",
   "version": "3.12.9"
  }
 },
 "nbformat": 4,
 "nbformat_minor": 5
}

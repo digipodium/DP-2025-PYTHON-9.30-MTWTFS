{
 "cells": [
  {
   "cell_type": "code",
   "execution_count": 1,
   "id": "da565c02",
   "metadata": {},
   "outputs": [],
   "source": [
    "name = \"Python\""
   ]
  },
  {
   "cell_type": "code",
   "execution_count": 2,
   "id": "c0a1ac88",
   "metadata": {},
   "outputs": [
    {
     "name": "stdout",
     "output_type": "stream",
     "text": [
      "h\n"
     ]
    }
   ],
   "source": [
    "print(name[3])"
   ]
  },
  {
   "cell_type": "code",
   "execution_count": 3,
   "id": "80cf5f36",
   "metadata": {},
   "outputs": [
    {
     "name": "stdout",
     "output_type": "stream",
     "text": [
      "thon\n"
     ]
    }
   ],
   "source": [
    "print(name[2:6])"
   ]
  },
  {
   "cell_type": "code",
   "execution_count": 4,
   "id": "a4d5565d",
   "metadata": {},
   "outputs": [
    {
     "data": {
      "text/plain": [
       "1"
      ]
     },
     "execution_count": 4,
     "metadata": {},
     "output_type": "execute_result"
    }
   ],
   "source": [
    "str = \"pyython\"\n",
    "str.index(\"y\")"
   ]
  },
  {
   "cell_type": "code",
   "execution_count": 7,
   "id": "cdfa41a2",
   "metadata": {},
   "outputs": [
    {
     "name": "stdout",
     "output_type": "stream",
     "text": [
      "y\n"
     ]
    }
   ],
   "source": [
    "print(str[2])"
   ]
  },
  {
   "cell_type": "code",
   "execution_count": 5,
   "id": "75219afa",
   "metadata": {},
   "outputs": [
    {
     "name": "stdout",
     "output_type": "stream",
     "text": [
      "[1, 1]\n"
     ]
    }
   ],
   "source": [
    "a = []\n",
    "for i in str:\n",
    "    if i == \"y\":\n",
    "        ind = str.index(i)\n",
    "        a.append(ind)\n",
    "\n",
    "print(a)\n",
    "        "
   ]
  },
  {
   "cell_type": "code",
   "execution_count": 10,
   "id": "f866f04e",
   "metadata": {},
   "outputs": [
    {
     "name": "stdout",
     "output_type": "stream",
     "text": [
      "Hello World\n"
     ]
    }
   ],
   "source": [
    "#string concatenation\n",
    "str1 = \"Hello\"\n",
    "str2 = \"World\"\n",
    "str3 = str1 +\" \" + str2\n",
    "print(str3)"
   ]
  },
  {
   "cell_type": "code",
   "execution_count": 11,
   "id": "cac8fac6",
   "metadata": {},
   "outputs": [
    {
     "name": "stdout",
     "output_type": "stream",
     "text": [
      "heyheyhey\n"
     ]
    }
   ],
   "source": [
    "#string duplication\n",
    "word = \"hey\"\n",
    "print(word * 3)"
   ]
  },
  {
   "cell_type": "code",
   "execution_count": 12,
   "id": "8328df1c",
   "metadata": {},
   "outputs": [
    {
     "data": {
      "text/plain": [
       "'BEAUTIFUL'"
      ]
     },
     "execution_count": 12,
     "metadata": {},
     "output_type": "execute_result"
    }
   ],
   "source": [
    "x = 'beautiful'\n",
    "x.upper()"
   ]
  },
  {
   "cell_type": "code",
   "execution_count": 13,
   "id": "67f4a747",
   "metadata": {},
   "outputs": [
    {
     "data": {
      "text/plain": [
       "'beautiful'"
      ]
     },
     "execution_count": 13,
     "metadata": {},
     "output_type": "execute_result"
    }
   ],
   "source": [
    "x.lower()"
   ]
  },
  {
   "cell_type": "code",
   "execution_count": 14,
   "id": "76ac2a22",
   "metadata": {},
   "outputs": [
    {
     "data": {
      "text/plain": [
       "'Beautiful'"
      ]
     },
     "execution_count": 14,
     "metadata": {},
     "output_type": "execute_result"
    }
   ],
   "source": [
    "x.capitalize()"
   ]
  },
  {
   "cell_type": "code",
   "execution_count": 15,
   "id": "ba8f22d8",
   "metadata": {},
   "outputs": [
    {
     "data": {
      "text/plain": [
       "['You', 'are', 'fool']"
      ]
     },
     "execution_count": 15,
     "metadata": {},
     "output_type": "execute_result"
    }
   ],
   "source": [
    "a = \"You are fool\"\n",
    "a.split()"
   ]
  },
  {
   "cell_type": "code",
   "execution_count": 16,
   "id": "0c4c34a3",
   "metadata": {},
   "outputs": [
    {
     "name": "stdout",
     "output_type": "stream",
     "text": [
      "Johny Johny yes papa\n",
      "eating sugar no papa\n",
      "telling a lie no papa\n",
      "open your mouth hahaha\n"
     ]
    }
   ],
   "source": [
    "poem = '''Johny Johny yes papa\n",
    "eating sugar no papa\n",
    "telling a lie no papa\n",
    "open your mouth hahaha'''\n",
    "print(poem)"
   ]
  },
  {
   "cell_type": "code",
   "execution_count": 17,
   "id": "bcb39446",
   "metadata": {},
   "outputs": [
    {
     "data": {
      "text/plain": [
       "['Johny Johny yes papa',\n",
       " 'eating sugar no papa',\n",
       " 'telling a lie no papa',\n",
       " 'open your mouth hahaha']"
      ]
     },
     "execution_count": 17,
     "metadata": {},
     "output_type": "execute_result"
    }
   ],
   "source": [
    "poem.splitlines()"
   ]
  },
  {
   "cell_type": "code",
   "execution_count": 19,
   "id": "433f6c5c",
   "metadata": {},
   "outputs": [
    {
     "name": "stdout",
     "output_type": "stream",
     "text": [
      "Johny Johny yes fufa\n",
      "eating poison no fufa\n",
      "telling a lie no fufa\n",
      "open your mouth hahaha\n"
     ]
    }
   ],
   "source": [
    "p = poem.replace('papa','fufa').replace('sugar','poison')\n",
    "print(p)"
   ]
  },
  {
   "cell_type": "code",
   "execution_count": 20,
   "id": "31e7f070",
   "metadata": {},
   "outputs": [
    {
     "data": {
      "text/plain": [
       "16"
      ]
     },
     "execution_count": 20,
     "metadata": {},
     "output_type": "execute_result"
    }
   ],
   "source": [
    "p.find('fufa')"
   ]
  },
  {
   "cell_type": "code",
   "execution_count": 21,
   "id": "624dceea",
   "metadata": {},
   "outputs": [
    {
     "data": {
      "text/plain": [
       "'C:/Users/Desktop/Python'"
      ]
     },
     "execution_count": 21,
     "metadata": {},
     "output_type": "execute_result"
    }
   ],
   "source": [
    "path = ['C:','Users','Desktop','Python']\n",
    "('/'.join(path))"
   ]
  },
  {
   "cell_type": "code",
   "execution_count": null,
   "id": "4e20b55b",
   "metadata": {},
   "outputs": [],
   "source": []
  }
 ],
 "metadata": {
  "kernelspec": {
   "display_name": "base",
   "language": "python",
   "name": "python3"
  },
  "language_info": {
   "codemirror_mode": {
    "name": "ipython",
    "version": 3
   },
   "file_extension": ".py",
   "mimetype": "text/x-python",
   "name": "python",
   "nbconvert_exporter": "python",
   "pygments_lexer": "ipython3",
   "version": "3.12.9"
  }
 },
 "nbformat": 4,
 "nbformat_minor": 5
}
